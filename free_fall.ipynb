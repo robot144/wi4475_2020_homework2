{
 "cells": [
  {
   "cell_type": "markdown",
   "metadata": {},
   "source": [
    "# WI4475 homework 2 2020\n",
    "\n",
    "This model computes the position and velocity of a free-falling object. The only two forces acting are gravity and air friction. We use newton's famous $F=m a$ to create a simple model. \n",
    "\n",
    "$m a = F_{gravity} + F_{friction}$\n",
    "\n",
    "We consider a sphere with radius $r$ and density $\\rho_o$. For friction we use a quadratic dag law $F_{friction}=-\\rho_a c_d |u|u$\n",
    "Resulting in the model\n",
    "\n",
    "$du/dt = -g -(3 \\rho_a c_d)/(\\rho_o r) |u|u$\n",
    "\n",
    "__Please, be aware that the TensorFlow syntax changed a lot from version 1 to 2. This code uses version 2 syntax__"
   ]
  },
  {
   "cell_type": "markdown",
   "metadata": {},
   "source": [
    "## import packages"
   ]
  },
  {
   "cell_type": "code",
   "execution_count": 36,
   "metadata": {},
   "outputs": [
    {
     "name": "stderr",
     "output_type": "stream",
     "text": [
      "UsageError: Line magic function `%tensorflow_version` not found.\n"
     ]
    }
   ],
   "source": [
    "%tensorflow_version 2.x\n",
    "import tensorflow as tf\n",
    "tf.executing_eagerly()\n",
    "import numpy as np\n",
    "import matplotlib.pyplot as plt\n",
    "from math import pi"
   ]
  },
  {
   "cell_type": "code",
   "execution_count": 37,
   "metadata": {},
   "outputs": [],
   "source": [
    "# read measurements from file\n",
    "#data = np.genfromtxt('data.csv', delimiter=' ')\n",
    "data = np.genfromtxt('https://raw.githubusercontent.com/robot144/wi4475_2020_homework2/master/data.csv', delimiter=' ')"
   ]
  },
  {
   "cell_type": "code",
   "execution_count": 38,
   "metadata": {},
   "outputs": [],
   "source": [
    "dt   =0.1                 #time-step [s]\n",
    "T    =10.0                #end-time of simulation\n",
    "g    =tf.Variable(9.81)   #acceleration of gravity [m/s^2]\n",
    "rho_o=tf.Variable(1000.0) #density of object [kg/m^3]\n",
    "r    =tf.Variable(0.05)   #radius of spherical object\n",
    "cd   =tf.Variable(0.45)   #drag coefficient for a sphere (0.47) \n",
    "                          #https://en.wikipedia.org/wiki/Drag_coefficient\n",
    "rho_a=tf.Variable(1.25)   #density of air\n",
    "\n",
    "beta = 3*rho_a*cd/(rho_o*r)\n",
    "z=tf.Variable(0.0)        #initial position\n",
    "u=tf.Variable(0.0)        #initial velocity"
   ]
  },
  {
   "cell_type": "code",
   "execution_count": 39,
   "metadata": {},
   "outputs": [
    {
     "name": "stdout",
     "output_type": "stream",
     "text": [
      "cost_norm=1.960806\n"
     ]
    }
   ],
   "source": [
    "i=0\n",
    "times=np.arange(dt,T,dt) \n",
    "all_u=np.zeros(len(times)) #collect data for a plot\n",
    "cost=tf.Variable(0.0)\n",
    "for t in times:\n",
    "    z = z + dt*u\n",
    "    u = u + dt*(-g-beta*abs(u)*u)\n",
    "    all_u[i]=u\n",
    "    #print(\"t=%f z=%f u=%f\"%(t,z,u))\n",
    "    z_obs=data[i,1]\n",
    "    #print(\"t=%f z=%f z_obs=%f\"%(t,z,z_obs))\n",
    "    cost=cost+(z_obs-z)**2\n",
    "    i=i+1\n",
    "cost_norm=cost/i #normalize by number of elements\n",
    "print(\"cost_norm=%f\"%(cost_norm))"
   ]
  },
  {
   "cell_type": "code",
   "execution_count": 40,
   "metadata": {
    "scrolled": true
   },
   "outputs": [
    {
     "data": {
      "text/plain": [
       "Text(0.5, 1.0, 'Fall velocity')"
      ]
     },
     "execution_count": 40,
     "metadata": {},
     "output_type": "execute_result"
    },
    {
     "data": {
      "image/png": "[encoded data removed]",
      "text/plain": [
       "<Figure size 432x288 with 1 Axes>"
      ]
     },
     "metadata": {
      "needs_background": "light"
     },
     "output_type": "display_data"
    }
   ],
   "source": [
    "plt.plot(times,all_u)         #computed velocity\n",
    "plt.plot(data[:,0],data[:,2]) #measured velocity\n",
    "plt.xlabel(\"time [s]\")\n",
    "plt.ylabel(\"u [m/s]\")\n",
    "plt.title(\"Fall velocity\")"
   ]
  },
  {
   "cell_type": "markdown",
   "metadata": {},
   "source": [
    "## Automatic differentiation\n",
    "\n",
    "The example below shows how automatic differentation works. One can only compute derivatives with respect to variables of type tf.Variable and 'watched' variables.\n",
    "\n",
    "[tensorflow autodiff docu](https://www.tensorflow.org/tutorials/customization/autodiff)"
   ]
  },
  {
   "cell_type": "code",
   "execution_count": 41,
   "metadata": {},
   "outputs": [
    {
     "name": "stdout",
     "output_type": "stream",
     "text": [
      "dz/dx=2.000000\n",
      "dz/dy=1.000000\n",
      "grad(z) wrt (x,y) =  [2. 1.]\n"
     ]
    }
   ],
   "source": [
    "x=tf.Variable(1.0)\n",
    "y=tf.Variable(2.0)\n",
    "with tf.GradientTape(persistent=True) as tape: #normally the tape is cleared after one call to tf.gradient\n",
    "    z = 2*x + y\n",
    "    \n",
    "#one at a time\n",
    "dz_dx = tape.gradient(z,x)\n",
    "print(\"dz/dx=%f\"%(dz_dx))\n",
    "dz_dy = tape.gradient(z,y)\n",
    "print(\"dz/dy=%f\"%(dz_dy))\n",
    "#or a gradient in one call\n",
    "dz_dxy=tape.gradient(z,[x,y])\n",
    "print(\"grad(z) wrt (x,y) = \",np.array(dz_dxy))"
   ]
  },
  {
   "cell_type": "markdown",
   "metadata": {},
   "source": [
    "## Exercise\n",
    "\n",
    "1. With the free-fall model and data, compute the derivatives of _cost_norm_ with respect to _cd_.  \n",
    "2. Check the result with the finite difference approach."
   ]
  },
  {
   "cell_type": "code",
   "execution_count": null,
   "metadata": {},
   "outputs": [],
   "source": []
  }
 ],
 "metadata": {
  "kernelspec": {
   "display_name": "Python 3",
   "language": "python",
   "name": "python3"
  },
  "language_info": {
   "codemirror_mode": {
    "name": "ipython",
    "version": 3
   },
   "file_extension": ".py",
   "mimetype": "text/x-python",
   "name": "python",
   "nbconvert_exporter": "python",
   "pygments_lexer": "ipython3",
   "version": "3.7.4"
  }
 },
 "nbformat": 4,
 "nbformat_minor": 2
}
